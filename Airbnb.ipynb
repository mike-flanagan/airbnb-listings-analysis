{
 "cells": [
  {
   "cell_type": "markdown",
   "metadata": {
    "heading_collapsed": true
   },
   "source": [
    "## Setup"
   ]
  },
  {
   "cell_type": "code",
   "execution_count": 4,
   "metadata": {
    "ExecuteTime": {
     "end_time": "2021-08-06T22:07:48.869941Z",
     "start_time": "2021-08-06T22:07:48.837109Z"
    },
    "hidden": true
   },
   "outputs": [],
   "source": [
    "import sys, os, json, csv\n",
    "\n",
    "import numpy as np\n",
    "import pandas as pd"
   ]
  },
  {
   "cell_type": "markdown",
   "metadata": {
    "hidden": true
   },
   "source": [
    "### Data"
   ]
  },
  {
   "cell_type": "code",
   "execution_count": 23,
   "metadata": {
    "ExecuteTime": {
     "end_time": "2021-08-06T22:24:27.524403Z",
     "start_time": "2021-08-06T22:22:50.597193Z"
    },
    "hidden": true
   },
   "outputs": [],
   "source": [
    "# df = pd.read_csv('data/AB_NYC_2019.csv')  \n",
    "# df = pd.read_csv('data/AB_US_2020.csv')  \n",
    "df = pd.read_csv('data/airbnb-listings.csv', sep=';', low_memory=False)"
   ]
  },
  {
   "cell_type": "markdown",
   "metadata": {},
   "source": [
    "# EDA"
   ]
  },
  {
   "cell_type": "code",
   "execution_count": 24,
   "metadata": {
    "ExecuteTime": {
     "end_time": "2021-08-06T22:25:35.578482Z",
     "start_time": "2021-08-06T22:25:35.558569Z"
    }
   },
   "outputs": [
    {
     "data": {
      "text/plain": [
       "Index(['ID', 'Listing Url', 'Scrape ID', 'Last Scraped', 'Name', 'Summary',\n",
       "       'Space', 'Description', 'Experiences Offered', 'Neighborhood Overview',\n",
       "       'Notes', 'Transit', 'Access', 'Interaction', 'House Rules',\n",
       "       'Thumbnail Url', 'Medium Url', 'Picture Url', 'XL Picture Url',\n",
       "       'Host ID', 'Host URL', 'Host Name', 'Host Since', 'Host Location',\n",
       "       'Host About', 'Host Response Time', 'Host Response Rate',\n",
       "       'Host Acceptance Rate', 'Host Thumbnail Url', 'Host Picture Url',\n",
       "       'Host Neighbourhood', 'Host Listings Count',\n",
       "       'Host Total Listings Count', 'Host Verifications', 'Street',\n",
       "       'Neighbourhood', 'Neighbourhood Cleansed',\n",
       "       'Neighbourhood Group Cleansed', 'City', 'State', 'Zipcode', 'Market',\n",
       "       'Smart Location', 'Country Code', 'Country', 'Latitude', 'Longitude',\n",
       "       'Property Type', 'Room Type', 'Accommodates', 'Bathrooms', 'Bedrooms',\n",
       "       'Beds', 'Bed Type', 'Amenities', 'Square Feet', 'Price', 'Weekly Price',\n",
       "       'Monthly Price', 'Security Deposit', 'Cleaning Fee', 'Guests Included',\n",
       "       'Extra People', 'Minimum Nights', 'Maximum Nights', 'Calendar Updated',\n",
       "       'Has Availability', 'Availability 30', 'Availability 60',\n",
       "       'Availability 90', 'Availability 365', 'Calendar last Scraped',\n",
       "       'Number of Reviews', 'First Review', 'Last Review',\n",
       "       'Review Scores Rating', 'Review Scores Accuracy',\n",
       "       'Review Scores Cleanliness', 'Review Scores Checkin',\n",
       "       'Review Scores Communication', 'Review Scores Location',\n",
       "       'Review Scores Value', 'License', 'Jurisdiction Names',\n",
       "       'Cancellation Policy', 'Calculated host listings count',\n",
       "       'Reviews per Month', 'Geolocation', 'Features'],\n",
       "      dtype='object')"
      ]
     },
     "execution_count": 24,
     "metadata": {},
     "output_type": "execute_result"
    }
   ],
   "source": [
    "df.columns"
   ]
  },
  {
   "cell_type": "code",
   "execution_count": 25,
   "metadata": {
    "ExecuteTime": {
     "end_time": "2021-08-06T22:25:42.800243Z",
     "start_time": "2021-08-06T22:25:42.748179Z"
    }
   },
   "outputs": [
    {
     "data": {
      "text/html": [
       "<div>\n",
       "<style scoped>\n",
       "    .dataframe tbody tr th:only-of-type {\n",
       "        vertical-align: middle;\n",
       "    }\n",
       "\n",
       "    .dataframe tbody tr th {\n",
       "        vertical-align: top;\n",
       "    }\n",
       "\n",
       "    .dataframe thead th {\n",
       "        text-align: right;\n",
       "    }\n",
       "</style>\n",
       "<table border=\"1\" class=\"dataframe\">\n",
       "  <thead>\n",
       "    <tr style=\"text-align: right;\">\n",
       "      <th></th>\n",
       "      <th>ID</th>\n",
       "      <th>Listing Url</th>\n",
       "      <th>Scrape ID</th>\n",
       "      <th>Last Scraped</th>\n",
       "      <th>Name</th>\n",
       "      <th>Summary</th>\n",
       "      <th>Space</th>\n",
       "      <th>Description</th>\n",
       "      <th>Experiences Offered</th>\n",
       "      <th>Neighborhood Overview</th>\n",
       "      <th>...</th>\n",
       "      <th>Review Scores Communication</th>\n",
       "      <th>Review Scores Location</th>\n",
       "      <th>Review Scores Value</th>\n",
       "      <th>License</th>\n",
       "      <th>Jurisdiction Names</th>\n",
       "      <th>Cancellation Policy</th>\n",
       "      <th>Calculated host listings count</th>\n",
       "      <th>Reviews per Month</th>\n",
       "      <th>Geolocation</th>\n",
       "      <th>Features</th>\n",
       "    </tr>\n",
       "  </thead>\n",
       "  <tbody>\n",
       "    <tr>\n",
       "      <th>0</th>\n",
       "      <td>17619081</td>\n",
       "      <td>https://www.airbnb.com/rooms/17619081</td>\n",
       "      <td>20170615002708</td>\n",
       "      <td>2017-06-15</td>\n",
       "      <td>Nice smallroom i central old Frederiksberg</td>\n",
       "      <td>Min bolig lægger tæt på Bus og Metro. Frederik...</td>\n",
       "      <td>NaN</td>\n",
       "      <td>Min bolig lægger tæt på Bus og Metro. Frederik...</td>\n",
       "      <td>none</td>\n",
       "      <td>NaN</td>\n",
       "      <td>...</td>\n",
       "      <td>10.0</td>\n",
       "      <td>8.0</td>\n",
       "      <td>10.0</td>\n",
       "      <td>NaN</td>\n",
       "      <td>NaN</td>\n",
       "      <td>flexible</td>\n",
       "      <td>2.0</td>\n",
       "      <td>0.66</td>\n",
       "      <td>55.6759793551,12.5329597787</td>\n",
       "      <td>Host Is Superhost,Host Has Profile Pic,Host Id...</td>\n",
       "    </tr>\n",
       "    <tr>\n",
       "      <th>1</th>\n",
       "      <td>13356620</td>\n",
       "      <td>https://www.airbnb.com/rooms/13356620</td>\n",
       "      <td>20170615002708</td>\n",
       "      <td>2017-06-15</td>\n",
       "      <td>Spacious 95 m2 3 room apt. with great location</td>\n",
       "      <td>Spacious and sunny apt. located close to the b...</td>\n",
       "      <td>The apt. is located on 3rd floor and faces a t...</td>\n",
       "      <td>Spacious and sunny apt. located close to the b...</td>\n",
       "      <td>none</td>\n",
       "      <td>NaN</td>\n",
       "      <td>...</td>\n",
       "      <td>10.0</td>\n",
       "      <td>10.0</td>\n",
       "      <td>9.0</td>\n",
       "      <td>NaN</td>\n",
       "      <td>NaN</td>\n",
       "      <td>strict</td>\n",
       "      <td>1.0</td>\n",
       "      <td>0.41</td>\n",
       "      <td>55.6759094982,12.5343258647</td>\n",
       "      <td>Host Has Profile Pic,Host Identity Verified,Is...</td>\n",
       "    </tr>\n",
       "    <tr>\n",
       "      <th>2</th>\n",
       "      <td>18993602</td>\n",
       "      <td>https://www.airbnb.com/rooms/18993602</td>\n",
       "      <td>20170615002708</td>\n",
       "      <td>2017-06-15</td>\n",
       "      <td>Bright and lovely 3 room apartment in Copenhagen</td>\n",
       "      <td>Lovely newly renovated 3 room apartment locate...</td>\n",
       "      <td>NaN</td>\n",
       "      <td>Lovely newly renovated 3 room apartment locate...</td>\n",
       "      <td>none</td>\n",
       "      <td>NaN</td>\n",
       "      <td>...</td>\n",
       "      <td>NaN</td>\n",
       "      <td>NaN</td>\n",
       "      <td>NaN</td>\n",
       "      <td>NaN</td>\n",
       "      <td>NaN</td>\n",
       "      <td>moderate</td>\n",
       "      <td>2.0</td>\n",
       "      <td>NaN</td>\n",
       "      <td>55.6914472628,12.5328311114</td>\n",
       "      <td>Host Has Profile Pic,Host Identity Verified</td>\n",
       "    </tr>\n",
       "  </tbody>\n",
       "</table>\n",
       "<p>3 rows × 89 columns</p>\n",
       "</div>"
      ],
      "text/plain": [
       "         ID                            Listing Url       Scrape ID  \\\n",
       "0  17619081  https://www.airbnb.com/rooms/17619081  20170615002708   \n",
       "1  13356620  https://www.airbnb.com/rooms/13356620  20170615002708   \n",
       "2  18993602  https://www.airbnb.com/rooms/18993602  20170615002708   \n",
       "\n",
       "  Last Scraped                                              Name  \\\n",
       "0   2017-06-15        Nice smallroom i central old Frederiksberg   \n",
       "1   2017-06-15    Spacious 95 m2 3 room apt. with great location   \n",
       "2   2017-06-15  Bright and lovely 3 room apartment in Copenhagen   \n",
       "\n",
       "                                             Summary  \\\n",
       "0  Min bolig lægger tæt på Bus og Metro. Frederik...   \n",
       "1  Spacious and sunny apt. located close to the b...   \n",
       "2  Lovely newly renovated 3 room apartment locate...   \n",
       "\n",
       "                                               Space  \\\n",
       "0                                                NaN   \n",
       "1  The apt. is located on 3rd floor and faces a t...   \n",
       "2                                                NaN   \n",
       "\n",
       "                                         Description Experiences Offered  \\\n",
       "0  Min bolig lægger tæt på Bus og Metro. Frederik...                none   \n",
       "1  Spacious and sunny apt. located close to the b...                none   \n",
       "2  Lovely newly renovated 3 room apartment locate...                none   \n",
       "\n",
       "  Neighborhood Overview  ... Review Scores Communication  \\\n",
       "0                   NaN  ...                        10.0   \n",
       "1                   NaN  ...                        10.0   \n",
       "2                   NaN  ...                         NaN   \n",
       "\n",
       "  Review Scores Location Review Scores Value License Jurisdiction Names  \\\n",
       "0                    8.0                10.0     NaN                NaN   \n",
       "1                   10.0                 9.0     NaN                NaN   \n",
       "2                    NaN                 NaN     NaN                NaN   \n",
       "\n",
       "  Cancellation Policy Calculated host listings count Reviews per Month  \\\n",
       "0            flexible                            2.0              0.66   \n",
       "1              strict                            1.0              0.41   \n",
       "2            moderate                            2.0               NaN   \n",
       "\n",
       "                   Geolocation  \\\n",
       "0  55.6759793551,12.5329597787   \n",
       "1  55.6759094982,12.5343258647   \n",
       "2  55.6914472628,12.5328311114   \n",
       "\n",
       "                                            Features  \n",
       "0  Host Is Superhost,Host Has Profile Pic,Host Id...  \n",
       "1  Host Has Profile Pic,Host Identity Verified,Is...  \n",
       "2        Host Has Profile Pic,Host Identity Verified  \n",
       "\n",
       "[3 rows x 89 columns]"
      ]
     },
     "execution_count": 25,
     "metadata": {},
     "output_type": "execute_result"
    }
   ],
   "source": [
    "df.head(3)"
   ]
  },
  {
   "cell_type": "code",
   "execution_count": 28,
   "metadata": {
    "ExecuteTime": {
     "end_time": "2021-08-06T22:27:25.733410Z",
     "start_time": "2021-08-06T22:27:21.334588Z"
    }
   },
   "outputs": [
    {
     "name": "stdout",
     "output_type": "stream",
     "text": [
      "<class 'pandas.core.frame.DataFrame'>\n",
      "RangeIndex: 494954 entries, 0 to 494953\n",
      "Data columns (total 89 columns):\n",
      " #   Column                          Non-Null Count   Dtype  \n",
      "---  ------                          --------------   -----  \n",
      " 0   ID                              494954 non-null  object \n",
      " 1   Listing Url                     494954 non-null  object \n",
      " 2   Scrape ID                       494954 non-null  object \n",
      " 3   Last Scraped                    494953 non-null  object \n",
      " 4   Name                            494536 non-null  object \n",
      " 5   Summary                         478753 non-null  object \n",
      " 6   Space                           347019 non-null  object \n",
      " 7   Description                     494794 non-null  object \n",
      " 8   Experiences Offered             494954 non-null  object \n",
      " 9   Neighborhood Overview           291604 non-null  object \n",
      " 10  Notes                           197643 non-null  object \n",
      " 11  Transit                         303786 non-null  object \n",
      " 12  Access                          268402 non-null  object \n",
      " 13  Interaction                     256550 non-null  object \n",
      " 14  House Rules                     297029 non-null  object \n",
      " 15  Thumbnail Url                   400120 non-null  object \n",
      " 16  Medium Url                      400119 non-null  object \n",
      " 17  Picture Url                     494220 non-null  object \n",
      " 18  XL Picture Url                  400120 non-null  object \n",
      " 19  Host ID                         494954 non-null  int64  \n",
      " 20  Host URL                        494954 non-null  object \n",
      " 21  Host Name                       494450 non-null  object \n",
      " 22  Host Since                      494449 non-null  object \n",
      " 23  Host Location                   492691 non-null  object \n",
      " 24  Host About                      296277 non-null  object \n",
      " 25  Host Response Time              379885 non-null  object \n",
      " 26  Host Response Rate              379884 non-null  float64\n",
      " 27  Host Acceptance Rate            42258 non-null   object \n",
      " 28  Host Thumbnail Url              494449 non-null  object \n",
      " 29  Host Picture Url                494449 non-null  object \n",
      " 30  Host Neighbourhood              370737 non-null  object \n",
      " 31  Host Listings Count             494449 non-null  float64\n",
      " 32  Host Total Listings Count       494448 non-null  float64\n",
      " 33  Host Verifications              494618 non-null  object \n",
      " 34  Street                          494953 non-null  object \n",
      " 35  Neighbourhood                   345403 non-null  object \n",
      " 36  Neighbourhood Cleansed          494953 non-null  object \n",
      " 37  Neighbourhood Group Cleansed    102163 non-null  object \n",
      " 38  City                            494500 non-null  object \n",
      " 39  State                           445160 non-null  object \n",
      " 40  Zipcode                         475346 non-null  object \n",
      " 41  Market                          489299 non-null  object \n",
      " 42  Smart Location                  494952 non-null  object \n",
      " 43  Country Code                    494952 non-null  object \n",
      " 44  Country                         494951 non-null  object \n",
      " 45  Latitude                        494953 non-null  float64\n",
      " 46  Longitude                       494953 non-null  float64\n",
      " 47  Property Type                   494943 non-null  object \n",
      " 48  Room Type                       494953 non-null  object \n",
      " 49  Accommodates                    494891 non-null  float64\n",
      " 50  Bathrooms                       493428 non-null  float64\n",
      " 51  Bedrooms                        494328 non-null  float64\n",
      " 52  Beds                            494037 non-null  float64\n",
      " 53  Bed Type                        494953 non-null  object \n",
      " 54  Amenities                       490466 non-null  object \n",
      " 55  Square Feet                     12209 non-null   float64\n",
      " 56  Price                           486996 non-null  float64\n",
      " 57  Weekly Price                    97747 non-null   float64\n",
      " 58  Monthly Price                   96091 non-null   float64\n",
      " 59  Security Deposit                204012 non-null  float64\n",
      " 60  Cleaning Fee                    315715 non-null  float64\n",
      " 61  Guests Included                 494952 non-null  float64\n",
      " 62  Extra People                    494917 non-null  float64\n",
      " 63  Minimum Nights                  494952 non-null  float64\n",
      " 64  Maximum Nights                  494952 non-null  float64\n",
      " 65  Calendar Updated                494953 non-null  object \n",
      " 66  Has Availability                9307 non-null    object \n",
      " 67  Availability 30                 494952 non-null  float64\n",
      " 68  Availability 60                 494952 non-null  float64\n",
      " 69  Availability 90                 494952 non-null  float64\n",
      " 70  Availability 365                494952 non-null  float64\n",
      " 71  Calendar last Scraped           494952 non-null  object \n",
      " 72  Number of Reviews               494952 non-null  float64\n",
      " 73  First Review                    372947 non-null  object \n",
      " 74  Last Review                     373055 non-null  object \n",
      " 75  Review Scores Rating            367134 non-null  float64\n",
      " 76  Review Scores Accuracy          366237 non-null  float64\n",
      " 77  Review Scores Cleanliness       366479 non-null  float64\n",
      " 78  Review Scores Checkin           365918 non-null  float64\n",
      " 79  Review Scores Communication     366434 non-null  float64\n",
      " 80  Review Scores Location          365969 non-null  float64\n",
      " 81  Review Scores Value             365873 non-null  float64\n",
      " 82  License                         14596 non-null   object \n",
      " 83  Jurisdiction Names              134553 non-null  object \n",
      " 84  Cancellation Policy             494952 non-null  object \n",
      " 85  Calculated host listings count  494087 non-null  float64\n",
      " 86  Reviews per Month               372947 non-null  float64\n",
      " 87  Geolocation                     494953 non-null  object \n",
      " 88  Features                        494648 non-null  object \n",
      "dtypes: float64(33), int64(1), object(55)\n",
      "memory usage: 336.1+ MB\n"
     ]
    }
   ],
   "source": [
    "df.info()"
   ]
  },
  {
   "cell_type": "markdown",
   "metadata": {},
   "source": [
    "# Overview"
   ]
  },
  {
   "cell_type": "markdown",
   "metadata": {},
   "source": [
    "In this project, data for Airbnb listings is explored in an effort to glean insights relating to rental properties. An exhaustive hypotheses testing and modeling process will be performed in order to offer guidance to property owners renting through Airbnb or similar platforms."
   ]
  },
  {
   "cell_type": "markdown",
   "metadata": {},
   "source": [
    "## About the Datasets"
   ]
  },
  {
   "cell_type": "markdown",
   "metadata": {},
   "source": [
    "The datasets used in this project were retrieved from various sources, listed below.  \n",
    "\n",
    "  [Airbnb — Listings](https://public.opendatasoft.com/explore/dataset/airbnb-listings/information/?disjunctive.host_verifications&disjunctive.amenities&disjunctive.features&dataChart=eyJxdWVyaWVzIjpbeyJjaGFydHMiOlt7InR5cGUiOiJjb2x1bW4iLCJmdW5jIjoiQ09VTlQiLCJ5QXhpcyI6Imhvc3RfbGlzdGluZ3NfY291bnQiLCJzY2llbnRpZmljRGlzcGxheSI6dHJ1ZSwiY29sb3IiOiJyYW5nZS1jdXN0b20ifV0sInhBeGlzIjoiY2l0eSIsIm1heHBvaW50cyI6IiIsInRpbWVzY2FsZSI6IiIsInNvcnQiOiIiLCJzZXJpZXNCcmVha2Rvd24iOiJyb29tX3R5cGUiLCJjb25maWciOnsiZGF0YXNldCI6ImFpcmJuYi1saXN0aW5ncyIsIm9wdGlvbnMiOnsiZGlzanVuY3RpdmUuaG9zdF92ZXJpZmljYXRpb25zIjp0cnVlLCJkaXNqdW5jdGl2ZS5hbWVuaXRpZXMiOnRydWUsImRpc2p1bmN0aXZlLmZlYXR1cmVzIjp0cnVlfX19XSwidGltZXNjYWxlIjoiIiwiZGlzcGxheUxlZ2VuZCI6dHJ1ZSwiYWxpZ25Nb250aCI6dHJ1ZX0%3D)  \n",
    "\n",
    "  [Kaggle — New York City Airbnb Open Data](https://www.kaggle.com/dgomonov/new-york-city-airbnb-open-data)  \n",
    "  Airbnb listings and metrics in NYC, NY, USA (2019)  \n",
    "  \n",
    "  - Since 2008, guests and hosts have used Airbnb to expand on traveling possibilities and present more unique, personalized way of experiencing the world. This dataset describes the listing activity and metrics in NYC, NY for 2019.  \n",
    "  \n",
    "  \n",
    "  - This data file includes all needed information to find out more about hosts, geographical availability, necessary metrics to make predictions and draw conclusions.  \n",
    "  \n",
    "  [Kaggle — U.S. Airbnb Open Data](https://www.kaggle.com/kritikseth/us-airbnb-open-data)  \n",
    "  Airbnb listings and metrics "
   ]
  },
  {
   "cell_type": "markdown",
   "metadata": {},
   "source": [
    "## Bibliography"
   ]
  },
  {
   "cell_type": "markdown",
   "metadata": {},
   "source": [
    "All Datasets used have been made available under Creative Commons CC0 1.0 Universal (CC0 1.0) \"Public Domain Dedication\"\n",
    "  \n",
    "  \n",
    "  \n",
    "  [Airbnb — Listings](https://public.opendatasoft.com/explore/dataset/airbnb-listings/information/?disjunctive.host_verifications&disjunctive.amenities&disjunctive.features&dataChart=eyJxdWVyaWVzIjpbeyJjaGFydHMiOlt7InR5cGUiOiJjb2x1bW4iLCJmdW5jIjoiQ09VTlQiLCJ5QXhpcyI6Imhvc3RfbGlzdGluZ3NfY291bnQiLCJzY2llbnRpZmljRGlzcGxheSI6dHJ1ZSwiY29sb3IiOiJyYW5nZS1jdXN0b20ifV0sInhBeGlzIjoiY2l0eSIsIm1heHBvaW50cyI6IiIsInRpbWVzY2FsZSI6IiIsInNvcnQiOiIiLCJzZXJpZXNCcmVha2Rvd24iOiJyb29tX3R5cGUiLCJjb25maWciOnsiZGF0YXNldCI6ImFpcmJuYi1saXN0aW5ncyIsIm9wdGlvbnMiOnsiZGlzanVuY3RpdmUuaG9zdF92ZXJpZmljYXRpb25zIjp0cnVlLCJkaXNqdW5jdGl2ZS5hbWVuaXRpZXMiOnRydWUsImRpc2p1bmN0aXZlLmZlYXR1cmVzIjp0cnVlfX19XSwidGltZXNjYWxlIjoiIiwiZGlzcGxheUxlZ2VuZCI6dHJ1ZSwiYWxpZ25Nb250aCI6dHJ1ZX0%3D)  \n",
    "  - Dataset available under Creative Commons CC0: Public Domain License, 2020  \n",
    "  - [Available from public.opendatasoft.com](https://public.opendatasoft.com/explore/dataset/airbnb-listings/information/?disjunctive.host_verifications&disjunctive.amenities&disjunctive.features&dataChart=eyJxdWVyaWVzIjpbeyJjaGFydHMiOlt7InR5cGUiOiJjb2x1bW4iLCJmdW5jIjoiQ09VTlQiLCJ5QXhpcyI6Imhvc3RfbGlzdGluZ3NfY291bnQiLCJzY2llbnRpZmljRGlzcGxheSI6dHJ1ZSwiY29sb3IiOiJyYW5nZS1jdXN0b20ifV0sInhBeGlzIjoiY2l0eSIsIm1heHBvaW50cyI6IiIsInRpbWVzY2FsZSI6IiIsInNvcnQiOiIiLCJzZXJpZXNCcmVha2Rvd24iOiJyb29tX3R5cGUiLCJjb25maWciOnsiZGF0YXNldCI6ImFpcmJuYi1saXN0aW5ncyIsIm9wdGlvbnMiOnsiZGlzanVuY3RpdmUuaG9zdF92ZXJpZmljYXRpb25zIjp0cnVlLCJkaXNqdW5jdGl2ZS5hbWVuaXRpZXMiOnRydWUsImRpc2p1bmN0aXZlLmZlYXR1cmVzIjp0cnVlfX19XSwidGltZXNjYWxlIjoiIiwiZGlzcGxheUxlZ2VuZCI6dHJ1ZSwiYWxpZ25Nb250aCI6dHJ1ZX0%3D)  \n",
    "  - Originally source from [Inside Airbnb](\n",
    "http://insideairbnb.com/)\n",
    "  \n",
    "[New York City Airbnb Open Data](https://www.kaggle.com/dgomonov/new-york-city-airbnb-open-data)  \n",
    "  - Dataset available under Creative Commons CC0: Public Domain License, 2019  \n",
    "  - Uploaded to Kaggle by user [Dgomonov](https://www.kaggle.com/dgomonov)\n",
    "  - Originally sourced from [Inside Airbnb](\n",
    "http://insideairbnb.com/)\n",
    "  \n",
    "[U.S. Airbnb Open Data](https://www.kaggle.com/kritikseth/us-airbnb-open-data)  \n",
    "  - Dataset available under Creative Commons CC0: Public Domain License, 2020  \n",
    "  - Uploaded to Kaggle by user [Kritik Seth](https://www.kaggle.com/kritikseth)  \n",
    "  - Originally sourced from [Inside Airbnb](\n",
    "http://insideairbnb.com/)\n",
    "    \n",
    "  "
   ]
  },
  {
   "cell_type": "code",
   "execution_count": null,
   "metadata": {},
   "outputs": [],
   "source": []
  }
 ],
 "metadata": {
  "kernelspec": {
   "display_name": "learn-env",
   "language": "python",
   "name": "learn-env"
  },
  "language_info": {
   "codemirror_mode": {
    "name": "ipython",
    "version": 3
   },
   "file_extension": ".py",
   "mimetype": "text/x-python",
   "name": "python",
   "nbconvert_exporter": "python",
   "pygments_lexer": "ipython3",
   "version": "3.8.5"
  },
  "toc": {
   "base_numbering": 1,
   "nav_menu": {},
   "number_sections": true,
   "sideBar": true,
   "skip_h1_title": false,
   "title_cell": "Table of Contents",
   "title_sidebar": "Contents",
   "toc_cell": false,
   "toc_position": {},
   "toc_section_display": true,
   "toc_window_display": false
  },
  "varInspector": {
   "cols": {
    "lenName": 16,
    "lenType": 16,
    "lenVar": 40
   },
   "kernels_config": {
    "python": {
     "delete_cmd_postfix": "",
     "delete_cmd_prefix": "del ",
     "library": "var_list.py",
     "varRefreshCmd": "print(var_dic_list())"
    },
    "r": {
     "delete_cmd_postfix": ") ",
     "delete_cmd_prefix": "rm(",
     "library": "var_list.r",
     "varRefreshCmd": "cat(var_dic_list()) "
    }
   },
   "types_to_exclude": [
    "module",
    "function",
    "builtin_function_or_method",
    "instance",
    "_Feature"
   ],
   "window_display": false
  }
 },
 "nbformat": 4,
 "nbformat_minor": 4
}
